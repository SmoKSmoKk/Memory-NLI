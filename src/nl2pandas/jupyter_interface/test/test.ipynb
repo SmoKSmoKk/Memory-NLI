{
 "cells": [
  {
   "cell_type": "code",
   "execution_count": 1,
   "id": "dba77ae4",
   "metadata": {},
   "outputs": [],
   "source": [
    "import pandas as pd"
   ]
  },
  {
   "cell_type": "code",
   "execution_count": 2,
   "id": "2675701d",
   "metadata": {},
   "outputs": [],
   "source": [
    "%load_ext nl2pandas.magic.magic"
   ]
  },
  {
   "cell_type": "code",
   "execution_count": 3,
   "id": "ff2b3822",
   "metadata": {},
   "outputs": [],
   "source": [
    "# test data\n",
    "weather_data = pd.DataFrame({\n",
    "    'elevation': ['202.5m', '533m', '12m', '42.5m'],\n",
    "    'station_id': [1, 2, 3, 4],\n",
    "    'temperature': [0.3, -12.4, 24.7, 12.0],\n",
    "    'year': [2011, 2013, 2012, 2009]\n",
    "})\n",
    "\n",
    "data = pd.DataFrame({\n",
    "    'col1': ['202.5m', '533m', '12m', '42.5m'],\n",
    "    'col2': [1, 2, 3, 4],\n",
    "    'col3': [0.3, -12.4, 24.7, 12.0],\n",
    "    'col4': [1, 2, 6.7, 9.0]\n",
    "})"
   ]
  },
  {
   "cell_type": "code",
   "execution_count": 5,
   "id": "de526408",
   "metadata": {},
   "outputs": [],
   "source": [
    "%nl2pandas remove the column \"year\""
   ]
  },
  {
   "cell_type": "code",
   "execution_count": 5,
   "id": "eec1394e",
   "metadata": {},
   "outputs": [
    {
     "data": {
      "application/vnd.jupyter.widget-view+json": {
       "model_id": "6f786f43477b4155874952331002a33d",
       "version_major": 2,
       "version_minor": 0
      },
      "text/plain": [
       "Output()"
      ]
     },
     "metadata": {},
     "output_type": "display_data"
    }
   ],
   "source": [
    "# test series\n",
    "%nl2pandas strip 'm' from column 'elevation'"
   ]
  }
 ],
 "metadata": {
  "kernelspec": {
   "display_name": "Python 3 (ipykernel)",
   "language": "python",
   "name": "python3"
  },
  "language_info": {
   "codemirror_mode": {
    "name": "ipython",
    "version": 3
   },
   "file_extension": ".py",
   "mimetype": "text/x-python",
   "name": "python",
   "nbconvert_exporter": "python",
   "pygments_lexer": "ipython3",
   "version": "3.9.13"
  }
 },
 "nbformat": 4,
 "nbformat_minor": 5
}
